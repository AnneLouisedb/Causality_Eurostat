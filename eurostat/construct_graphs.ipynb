{
 "cells": [
  {
   "cell_type": "code",
   "execution_count": null,
   "metadata": {},
   "outputs": [],
   "source": [
    "from __future__ import absolute_import, division, print_function, unicode_literals\n",
    "\n",
    "import numpy as np\n",
    "import pandas as pd\n",
    "from country_codes import eurostat_dictionary\n",
    "import eurostat\n",
    "import matplotlib.pyplot as plt\n",
    "from dowhy.causal_identifier import backdoor\n",
    "import networkx as nx\n",
    "from pgmpy.estimators import PC\n",
    "from pgmpy.models import BayesianModel\n",
    "\n",
    "from warnings import filterwarnings\n",
    "filterwarnings('ignore')"
   ]
  },
  {
   "cell_type": "code",
   "execution_count": null,
   "metadata": {},
   "outputs": [],
   "source": [
    "file_path = 'data/df_outcome_2010.csv'\n",
    "df_outcome_2010 = pd.read_csv(file_path)\n",
    "df_outcome_2010.head()"
   ]
  },
  {
   "cell_type": "code",
   "execution_count": null,
   "metadata": {},
   "outputs": [],
   "source": [
    "selected_variables = df_outcome_2010.columns\n",
    "\n",
    "# Create a subset of the DataFrame with the selected variables\n",
    "df_subset = df_outcome_2010[selected_variables]\n",
    "\n",
    "# PC algorithm to get the graph\n",
    "pc = PC(data=df_subset)\n",
    "skeleton, separating_sets = pc.build_skeleton()\n",
    "model = pc.skeleton_to_pdag(skeleton, separating_sets)\n",
    "# model = pc.pdag_to_dag(dag)\n",
    "\n",
    "# visualize discovered causal graph\n",
    "G = nx.DiGraph()\n",
    "G.add_nodes_from(model.nodes())\n",
    "G.add_edges_from(model.edges())\n",
    "\n",
    "# drawing\n",
    "pos = nx.spring_layout(G)\n",
    "nx.draw(G, pos, with_labels=True, font_size=8, node_size=700, node_color='skyblue', font_color='black', font_weight='bold', arrowsize=10)\n",
    "plt.show()"
   ]
  }
 ],
 "metadata": {
  "kernelspec": {
   "display_name": "Python 3",
   "language": "python",
   "name": "python3"
  },
  "language_info": {
   "codemirror_mode": {
    "name": "ipython",
    "version": 3
   },
   "file_extension": ".py",
   "mimetype": "text/x-python",
   "name": "python",
   "nbconvert_exporter": "python",
   "pygments_lexer": "ipython3",
   "version": "3.10.12"
  }
 },
 "nbformat": 4,
 "nbformat_minor": 2
}
