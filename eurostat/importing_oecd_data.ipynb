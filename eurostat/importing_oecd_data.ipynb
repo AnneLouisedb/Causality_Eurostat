{
 "cells": [
  {
   "cell_type": "markdown",
   "metadata": {},
   "source": [
    "Import the relevant libraries.\n",
    "\n"
   ]
  },
  {
   "cell_type": "code",
   "execution_count": null,
   "metadata": {},
   "outputs": [],
   "source": [
    "from __future__ import absolute_import, division, print_function, unicode_literals\n",
    "\n",
    "import numpy as np\n",
    "import pandas as pd\n",
    "# from scipy import optimize\n",
    "# import statsmodels.api as sm\n",
    "# import statsmodels.formula.api as smf\n",
    "# import matplotlib.pyplot as plt\n",
    "# import tensorflow as tf\n",
    "# import altair as alt\n",
    "# from linearmodels.iv import IV2SLS\n",
    "# from tensorflow.keras import datasets, layers, models\n",
    "# from tensorflow import keras\n",
    "# import theano\n",
    "# import pymc3 as pm\n",
    "# import arviz as az\n",
    "# import seaborn as sn\n",
    "\n",
    "\n",
    "# import covid19pandas as cod\n",
    "from country_codes import eurostat_dictionary\n",
    "import eurostat\n",
    "import matplotlib.pyplot as plt\n",
    "\n",
    "\n",
    "from warnings import filterwarnings\n",
    "filterwarnings('ignore')\n",
    "from sklearn import datasets\n",
    "from sklearn.preprocessing import scale\n",
    "from sklearn.model_selection import train_test_split\n",
    "from sklearn.datasets import make_moons"
   ]
  },
  {
   "cell_type": "markdown",
   "metadata": {},
   "source": [
    "## Dealing with data\n",
    "\n"
   ]
  },
  {
   "cell_type": "markdown",
   "metadata": {},
   "source": [
    "In this section we work with the API of Eurostat to get data directly into the notebook.\n",
    "\n",
    "We look at the data for each variable, decide on the shape we want to have for the dataframe and then merge a number of data sets together. For this we will be using pandas. Further, we use the python file `country_codes.py` which should be in the same folder as this notebook.\n",
    "\n"
   ]
  },
  {
   "cell_type": "markdown",
   "metadata": {},
   "source": [
    "### Countries\n",
    "\n"
   ]
  },
  {
   "cell_type": "markdown",
   "metadata": {},
   "source": [
    "We focus on the following countries when looking at the data. For the Eurostat data this does not matter so much. But if you want to combine Eurostat data with OECD data, this selection can be useful.\n",
    "\n"
   ]
  },
  {
   "cell_type": "code",
   "execution_count": null,
   "metadata": {},
   "outputs": [],
   "source": [
    "EU_countries = ['Belgium', 'Bulgaria', 'Czechia', 'Denmark',\n",
    "'Germany (until 1990 former territory of the FRG)', 'Germany','Estonia',\n",
    "'Ireland', 'Greece', 'Spain', 'France', 'Croatia', 'Italy',\n",
    "'Cyprus', 'Latvia', 'Lithuania', 'Luxembourg', 'Hungary', 'Malta',\n",
    "'Netherlands', 'Austria', 'Poland', 'Portugal', 'Romania',\n",
    "'Slovenia', 'Slovakia', 'Finland', 'Sweden', 'United Kingdom',\n",
    "'Iceland', 'Liechtenstein', 'Norway', 'Switzerland',\n",
    "'Bosnia and Herzegovina']"
   ]
  },
  {
   "cell_type": "markdown",
   "metadata": {},
   "source": [
    "### Mortality\n",
    "\n"
   ]
  },
  {
   "cell_type": "markdown",
   "metadata": {},
   "source": [
    "The [Eurostat website](https://ec.europa.eu/eurostat/data/database?node_code=hlth_cd_apr) has a browser where you can look for data. Here we are looking for data on mortality. You can click on the link to the data browser to see the [details of the variable](https://ec.europa.eu/eurostat/databrowser/view/hlth_cd_apr/default/table?lang=en). At the top-left of the screen you can see the name of the variable in the line &ldquo;`online data code: HLTH_CD_APR`&rdquo;. The name of this variable we use below in the `get_data_df` method.\n",
    "\n",
    "So we call this method and collect the information in the dataframe `df`. Then we check what `df` looks like:\n",
    "\n"
   ]
  },
  {
   "cell_type": "code",
   "execution_count": null,
   "metadata": {},
   "outputs": [],
   "source": [
    "df = eurostat.get_data_df('hlth_cd_apr')\n",
    "df.head()"
   ]
  },
  {
   "cell_type": "markdown",
   "metadata": {},
   "source": [
    "So we have a number of columns with abbreviations in them and then we have data for the years 2011-2017. Use the website of the variable to figure out what the abbreviations mean. To illustrate, the column `mortalit` gives three measures of mortality:\n",
    "\n"
   ]
  },
  {
   "cell_type": "code",
   "execution_count": null,
   "metadata": {},
   "outputs": [],
   "source": [
    "df.mortalit.unique()"
   ]
  },
  {
   "cell_type": "markdown",
   "metadata": {},
   "source": [
    "We will be interested in preventable &rsquo;PRVT&rsquo; and treatable &rsquo;TRT&rsquo; mortality.\n",
    "\n",
    "First, let&rsquo;s change the country column &rsquo;geo\\time&rsquo; and use country names instead of abbreviations. We need to &ldquo;escape&rdquo; the &rsquo;\\\\&rsquo; symbol to make sure pandas reads &rsquo;\\\\&rsquo; literally (not as a symbol). That is why we have &rsquo;\\\\\\\\&rsquo; in the code below. We use the `eurostat_dictionary` to turn the country abbreviations into country names.\n",
    "\n",
    "Note that to change the column name we use `.rename`; to change values in a row, we use `.replace`. The replacements are provided using a python dictionary: `{'old_name':'new_name'}`.\n",
    "\n",
    "If you are wondering why we use `inplace=True`, just run the code block without this to see the difference.\n",
    "\n"
   ]
  },
  {
   "cell_type": "code",
   "execution_count": null,
   "metadata": {},
   "outputs": [],
   "source": [
    "df.rename({'geo\\TIME_PERIOD':'geo'},inplace=True,axis=1)\n",
    "df['country'] = df['geo'].replace(eurostat_dictionary)\n",
    "df.head()"
   ]
  },
  {
   "cell_type": "markdown",
   "metadata": {},
   "source": [
    "Now we will select the values that we are interested in: only EU countries, both males and females, both preventable and treatable mortality, unit of measurement rate &rsquo;RT&rsquo; (not number &rsquo;NR&rsquo;) and all diseases (e.g. not the subset &ldquo; [A00-A09] Intestinal infectious diseases&rdquo;).\n",
    "\n",
    "For selection, we can use `==` or `.isin()`. With numbers we can also use smaller/greater than `<,>` etc.\n",
    "\n",
    "After this selection, we can drop some columns to make the dataframe a bit easier to handle.\n",
    "\n"
   ]
  },
  {
   "cell_type": "code",
   "execution_count": null,
   "metadata": {},
   "outputs": [],
   "source": [
    "df = df[df.country.isin(EU_countries) & (df.sex.isin([\"M\",\"F\"]) ) & (df.mortalit.isin([\"PRVT\",\"TRT\"])) \\\n",
    "        & (df.unit == \"RT\") & (df.icd10 == \"TOTAL\")]\n",
    "df.drop([\"unit\",\"icd10\",\"geo\"],axis=1,inplace=True)\n",
    "df.head()"
   ]
  },
  {
   "cell_type": "code",
   "execution_count": null,
   "metadata": {},
   "outputs": [],
   "source": [
    "df = pd.melt(df,id_vars=['country','sex','mortalit'],\n",
    "                        value_vars= df.columns[2:-1],\n",
    "                        var_name='year',\n",
    "                        value_name='rate')\n",
    "df.head()"
   ]
  },
  {
   "cell_type": "markdown",
   "metadata": {},
   "source": [
    "Instead of one column `rate` we want to have two columns (i.e. two variables); one corresponds to PRVT, the other to TRT. For this we use [unstack](https://pandas.pydata.org/pandas-docs/stable/reference/api/pandas.DataFrame.unstack.html). We put the identifying columns in an order such that the last column refers to `mortalit` which contains the two values PRVT and TRT. These columns become the index of the dataframe. Then we unstack the dataframe on the last column of the index, which is the default value of `unstack()`. This pivots the column `mortalit` into two separate columns PRVT and TRT.\n",
    "\n"
   ]
  },
  {
   "cell_type": "code",
   "execution_count": null,
   "metadata": {},
   "outputs": [],
   "source": [
    "df.set_index(['country','year','sex','mortalit'],inplace=True)\n",
    "df = df.unstack()\n",
    "df.head()"
   ]
  },
  {
   "cell_type": "markdown",
   "metadata": {},
   "source": [
    "Finally, we reset the index (such that it no longer features the hierarchy &#x2013;with &rsquo;rate&rsquo; and &rsquo;mortalit&rsquo;&#x2013; shown above) and rename the columns to make them easier to read/understand.\n",
    "\n"
   ]
  },
  {
   "cell_type": "code",
   "execution_count": null,
   "metadata": {},
   "outputs": [],
   "source": [
    "df.reset_index(inplace=True)\n",
    "df.columns = [' '.join(col).strip() for col in df.columns.values]\n",
    "df.rename({'rate PRVT':'Preventable mortality', 'rate TRT':'Treatable mortality'},inplace=True,axis=1)\n",
    "df.head()"
   ]
  },
  {
   "cell_type": "markdown",
   "metadata": {},
   "source": [
    "Now we consider a number of other variables. There you can practice the steps above to get these dataframes into the right shape. Finally, we merge each dataframe with the one previously created.\n",
    "\n"
   ]
  },
  {
   "cell_type": "markdown",
   "metadata": {},
   "source": [
    "### GDP per capita\n",
    "\n"
   ]
  },
  {
   "cell_type": "markdown",
   "metadata": {},
   "source": [
    "Go to this [page](https://ec.europa.eu/eurostat/data/database?node_code=nama_10_pc) to find the variable name for &ldquo;Main GDP aggregates per capita&rdquo;; fill in the &ldquo;dots&rdquo; in the following code:\n",
    "\n"
   ]
  },
  {
   "cell_type": "code",
   "execution_count": null,
   "metadata": {},
   "outputs": [],
   "source": [
    "def download_oecd_data(data_code): # 'nama_10_pc'\n",
    "    df_n = eurostat.get_data_df(data_code)\n",
    "    df_n.rename({'geo\\TIME_PERIOD':'geo'},inplace=True,axis=1)\n",
    "\n",
    "    df_n['country'] = df_n['geo'].replace(eurostat_dictionary)\n",
    "    # drop columns that contain all nan values\n",
    "    # Dropping columns with all NaN values\n",
    "    df_n.dropna(axis=1, how='all', inplace=True)\n",
    "    df_n = pd.melt(df_n,id_vars=['country','unit'],\n",
    "                        value_vars= df_n.columns[4:-1],\n",
    "                        var_name='year',\n",
    "                        value_name='gdp')\n",
    "\n",
    "    # merged_df = df.merge(df_n, on=['country', 'year'], how='left') \n",
    "    return df_n\n",
    "\n",
    "df_n = download_oecd_data('nama_10_pc')\n",
    "df_n"
   ]
  },
  {
   "cell_type": "markdown",
   "metadata": {},
   "source": [
    "### Income quantiles\n",
    "\n"
   ]
  },
  {
   "cell_type": "markdown",
   "metadata": {},
   "source": [
    "Use [this page](https://ec.europa.eu/eurostat/databrowser/view/icw_res_02/default/table?lang=en) to get the variable name for &ldquo;Mean and median economic resources of households by income, consumption and wealth quantiles - experimental statistics&rdquo;.\n",
    "\n"
   ]
  },
  {
   "cell_type": "markdown",
   "metadata": {},
   "source": [
    "We drop the year 2010 as it does not lie in the period for which we have the other data that we download.\n",
    "\n"
   ]
  },
  {
   "cell_type": "code",
   "execution_count": null,
   "metadata": {},
   "outputs": [],
   "source": [
    "def get_mean_median_income():\n",
    "    df_n = eurostat.get_data_df('icw_res_02') #icw_res_02\n",
    "    df_n.rename({'geo\\TIME_PERIOD':'geo'},inplace=True,axis=1)\n",
    "\n",
    "    df_n = df_n[(df_n.indic_il=='INC_DISP')&(df_n.statinfo=='AVG')&(df_n.quant_inc.isin(['QU1', 'QU2', 'QU3', 'QU4', 'QU5']))&(df_n.quant_expn=='TOTAL')&(df_n.quant_wlth=='TOTAL')]\n",
    "\n",
    "    df_n.drop(['unit','quant_expn','quant_wlth','indic_il','statinfo', '2010'],axis=1,inplace=True)\n",
    "    df_n['country'] = df_n['geo'].replace(eurostat_dictionary)\n",
    "\n",
    "    df_n.drop(['geo'],axis=1,inplace=True)\n",
    "\n",
    "    df_n = pd.melt(df_n,id_vars=['country','quant_inc'],\n",
    "                            value_vars= df_n.columns[1:-1],\n",
    "                            var_name='year',\n",
    "                            value_name='mean/median income')\n",
    "\n",
    "    df_n.set_index(['country', 'year', 'quant_inc'], inplace=True)\n",
    "\n",
    "    df_n = df_n[df_n.index.duplicated(keep='last')] # removing duplicate indices\n",
    "\n",
    "    df_n.index.unique()\n",
    "\n",
    "    df_n = df_n.unstack(level='quant_inc')\n",
    "    return df_n\n",
    "\n",
    "df_n = get_mean_median_income()\n",
    "df_n\n"
   ]
  },
  {
   "cell_type": "code",
   "execution_count": null,
   "metadata": {},
   "outputs": [],
   "source": [
    "merged_df = df.merge(df_n.reset_index(), on=['country', 'year'], how='left')\n",
    "merged_df.head()"
   ]
  },
  {
   "cell_type": "code",
   "execution_count": null,
   "metadata": {},
   "outputs": [],
   "source": [
    "df_n = eurostat.get_data_df('lfsa_urgan') \n",
    "df_n.head()"
   ]
  },
  {
   "cell_type": "code",
   "execution_count": null,
   "metadata": {},
   "outputs": [],
   "source": [
    "df_n = eurostat.get_data_df('yth_demo_080')\n",
    "df_n.rename({'geo\\TIME_PERIOD':'geo'},inplace=True,axis=1)\n",
    "\n",
    "df_n['country'] = df_n['geo'].replace(eurostat_dictionary)\n",
    "\n",
    "df_n.drop(['geo'],axis=1,inplace=True)\n",
    "df_n.tail()"
   ]
  },
  {
   "cell_type": "code",
   "execution_count": null,
   "metadata": {},
   "outputs": [],
   "source": [
    "\n",
    "def get_3rd_country_nationals_returned_annualty(country):\n",
    "    '''Third country nationals returned following an order to leave - annual data (rounded)'''\n",
    "    df_n = eurostat.get_data_df('migr_eirtn')\n",
    "    df_n.rename({'geo\\TIME_PERIOD':'geo'},inplace=True,axis=1)\n",
    "\n",
    "    df_n['country'] = df_n['geo'].replace(eurostat_dictionary)\n",
    "\n",
    "    df_n = df_n[df_n['age']== 'TOTAL']\n",
    "\n",
    "    df_n.set_index(['country','freq', 'c_dest', 'age', 'sex'], inplace=True)\n",
    "\n",
    "    df_n.drop(['geo'],axis=1,inplace=True)\n",
    "\n",
    "    df_n_reset = df_n.reset_index()\n",
    "\n",
    "    # Assuming 'year_columns' represents the columns that contain years\n",
    "    year_columns = [col for col in df_n_reset.columns if col not in ['country', 'freq', 'c_dest', 'age', 'sex', 'citizen', 'unit']]\n",
    "\n",
    "    # Plotting for a specific country (e.g., 'Germany') and all the years\n",
    "\n",
    "    country_data = df_n_reset[df_n_reset['country'] == country]\n",
    "    country_data = country_data[country_data['sex'] == 'T']\n",
    "    country_data = country_data[country_data['c_dest'] == 'THRD']\n",
    "\n",
    "\n",
    "    # Selecting columns representing years\n",
    "    year_columns = [col for col in country_data.columns if col not in ['country', 'freq', 'c_dest', 'age', 'sex', 'citizen', 'unit']]\n",
    "\n",
    "    # Summing over rows for each year\n",
    "    summed_data = country_data[year_columns].sum()\n",
    "    print(summed_data)\n",
    "\n",
    "    # Plotting the summed data\n",
    "    plt.figure(figsize=(10, 6))\n",
    "    plt.plot(summed_data.index, summed_data.values, marker='o', linestyle='-')\n",
    "    plt.xlabel('Years')\n",
    "    plt.ylabel('Summed Migration Data')\n",
    "    plt.title(f'Third country nationals returned following an order to leave - annual data  (Summed Migration Data for {country} (Sex=T, c_dest=THRD))')\n",
    "    plt.grid(True)\n",
    "    plt.show()\n",
    "\n",
    "    return summed_data\n",
    "\n",
    "df_n = get_3rd_country_nationals_returned_annualty('Germany')\n",
    "\n"
   ]
  },
  {
   "cell_type": "code",
   "execution_count": null,
   "metadata": {},
   "outputs": [],
   "source": [
    "\n",
    "df_n = get_percentage_youth_at_home('France')"
   ]
  },
  {
   "cell_type": "code",
   "execution_count": null,
   "metadata": {},
   "outputs": [],
   "source": [
    "\n",
    "def youth_at_home(COUNTRY, SEX, AGE):\n",
    "    df_n = eurostat.get_data_df('ilc_lvps08') # YOUNG PEOPLE LIVING AT HOME\n",
    "    df_n.rename({'geo\\TIME_PERIOD':'geo'},inplace=True,axis=1)\n",
    "\n",
    "    # Frequency of heavy episodic drinking by sex, age and educational attainment level\n",
    "\n",
    "    # df_n.drop(['unit','quant_expn','quant_wlth','indic_il','statinfo', '2010'],axis=1,inplace=True)\n",
    "\n",
    "    df_n.drop(['unit', 'freq'],axis=1,inplace=True)\n",
    "    df_n['country'] = df_n['geo'].replace(eurostat_dictionary)\n",
    "\n",
    "    df_n.drop(['geo'],axis=1,inplace=True)\n",
    "    print(df_n['age'].unique())\n",
    "\n",
    "    df_n = df_n[df_n['country'] == COUNTRY]\n",
    "    df_n = df_n[df_n['sex'] == SEX]\n",
    "\n",
    "    \n",
    "\n",
    "    df_n = df_n[df_n['age'] == AGE]\n",
    "\n",
    "\n",
    "    df_n.drop(['2003', '2004'],axis=1, inplace=True) # 'sex', 'age', 'country', \n",
    "\n",
    "    df_n.set_index(['sex', 'age', 'country'], inplace=True)\n",
    "    \n",
    "\n",
    "    df_n = df_n.tail(3)\n",
    "    df_n = df_n.T\n",
    "\n",
    "    # Assuming df_n is your modified DataFrame\n",
    "    plt.figure(figsize=(10, 6))\n",
    "\n",
    "    for column in df_n.columns:\n",
    "\n",
    "        plt.plot(df_n.index, df_n[column], marker='o', linestyle='-', label=column)\n",
    "\n",
    "    plt.xlabel('Years')\n",
    "    plt.ylabel('Percentage living with parents')\n",
    "    plt.title(f'Percentage of youth ({SEX}) living with parents in {COUNTRY}')\n",
    "    plt.legend()  # Add a legend to differentiate the columns\n",
    "    plt.grid(True)\n",
    "    plt.show()\n",
    "\n",
    "    return df_n\n",
    "\n",
    "df_n = youth_at_home('Netherlands', 'M', 'Y20-29')\n",
    "df_n = youth_at_home('Netherlands', 'F', 'Y20-29')\n",
    "df_n = youth_at_home('Netherlands', 'T', 'Y20-29')\n",
    "\n",
    " "
   ]
  },
  {
   "cell_type": "code",
   "execution_count": null,
   "metadata": {},
   "outputs": [],
   "source": [
    "df_n = youth_at_home('Netherlands')"
   ]
  },
  {
   "cell_type": "code",
   "execution_count": null,
   "metadata": {},
   "outputs": [],
   "source": [
    "df_n = youth_at_home('France')"
   ]
  },
  {
   "cell_type": "code",
   "execution_count": null,
   "metadata": {},
   "outputs": [],
   "source": [
    "\n",
    "def long_term_youth_unemployment(COUNTRY, SEX):\n",
    "    df_n = eurostat.get_data_df('yth_empl_130') # Long-term youth unemployment\n",
    "    df_n.rename({'geo\\TIME_PERIOD':'geo'},inplace=True,axis=1)\n",
    "\n",
    "\n",
    "    df_n.drop(['unit', 'freq'],axis=1,inplace=True)\n",
    "    df_n['country'] = df_n['geo'].replace(eurostat_dictionary)\n",
    "\n",
    "    df_n.drop(['geo'],axis=1,inplace=True)\n",
    "    print(df_n)\n",
    "\n",
    "    \n",
    "\n",
    "    df_n = df_n[df_n['country'] == COUNTRY]\n",
    "    df_n = df_n[df_n['sex'] == SEX]\n",
    "\n",
    "    df_n.set_index(['sex', 'age', 'country'], inplace=True)\n",
    "    \n",
    "    # df_n = df_n.tail(1)\n",
    "    df_n = df_n.T\n",
    "\n",
    "    # Assuming df_n is your modified DataFrame\n",
    "    plt.figure(figsize=(10, 6))\n",
    "\n",
    "    for column in df_n.columns:\n",
    "        plt.plot(df_n.index, df_n[column], marker='o', linestyle='-', label=column)\n",
    "\n",
    "    plt.xlabel('Years')\n",
    "    plt.ylabel('Percentage living with parents')\n",
    "    plt.title(f'Long-term youth unemployment in {COUNTRY}')\n",
    "    plt.legend()  # Add a legend to differentiate the columns\n",
    "    plt.grid(True)\n",
    "    plt.show()\n",
    "\n",
    "    return df_n\n",
    "\n",
    "df_n = long_term_youth_unemployment('Netherlands', 'T')"
   ]
  },
  {
   "cell_type": "markdown",
   "metadata": {},
   "source": [
    "#### https://www.rtlnieuws.nl/nieuws/nederland/artikel/5406259/minder-studenten-wonen-op-kamers-bij-ouders-thuis-basisbeurs\n",
    "\n",
    "\"Het totale aantal uitwonende studenten is wel toegenomen, maar dat komt enkel en alleen door een toename van het aantal buitenlandse studenten. Een op de zes studenten komt uit een ander land. In het collegejaar 2015/2016 was minder dan 10 procent van buitenlandse herkomst.\"\n"
   ]
  },
  {
   "cell_type": "markdown",
   "metadata": {},
   "source": [
    "#### https://www.cbs.nl/nl-nl/longread/statistische-trends/2023/de-groeiende-groep-jongvolwassen-thuiswonenden/3-data-en-methode"
   ]
  },
  {
   "cell_type": "code",
   "execution_count": null,
   "metadata": {},
   "outputs": [],
   "source": [
    " # Mobile students from abroad enrolled by education level, sex and country of origin\n",
    "\n",
    "\n",
    "\n",
    "def mobile_students_from_abroad(COUNTRY, SEX):\n",
    "    df_n = eurostat.get_data_df('educ_uoe_mobs02') # YOUNG PEOPLE LIVING AT HOME\n",
    "    df_n.rename({'geo\\TIME_PERIOD':'geo'},inplace=True,axis=1)\n",
    "\n",
    "    df_n.drop(['unit', 'freq'],axis=1,inplace=True)\n",
    "    df_n['country'] = df_n['geo'].replace(eurostat_dictionary)\n",
    "\n",
    "    df_n.drop(['geo'],axis=1,inplace=True)\n",
    "\n",
    "\n",
    "    df_n = df_n[df_n['country'] == COUNTRY]\n",
    "    df_n = df_n[df_n['sex'] == SEX]\n",
    "\n",
    "    # df_n = df_n[df_n['isced11'] == 'ED6' or  df_n['isced11'] == 'ED7']\n",
    "    df_n = df_n[(df_n['isced11'] == 'ED6') | (df_n['isced11'] == 'ED7')]\n",
    "\n",
    "    \n",
    "    df_n.set_index(['sex', 'country', 'partner', 'isced11'], inplace=True)\n",
    "    \n",
    "    # sum over all rows\n",
    "    df_n = df_n.sum()\n",
    "    \n",
    "    \n",
    "    # df_n = df_n.T\n",
    "\n",
    "\n",
    "    df_n = pd.DataFrame(df_n)\n",
    "    print(df_n)\n",
    "    # # Assuming df_n is your modified DataFrame\n",
    "    plt.figure(figsize=(10, 6))\n",
    "\n",
    "    for column in df_n.columns:\n",
    "        plt.plot(df_n.index, df_n[column], marker='o', linestyle='-', label=column)\n",
    "\n",
    "    plt.xlabel('Years')\n",
    "    plt.ylabel('Percentage living with parents')\n",
    "    plt.title(f'Percentage of youth ({SEX}) living with parents in {COUNTRY}')\n",
    "    plt.legend()  # Add a legend to differentiate the columns\n",
    "    plt.grid(True)\n",
    "    plt.show()\n",
    "\n",
    "    return df_n\n",
    "\n",
    "df_n = mobile_students_from_abroad('Netherlands', 'T')\n",
    "\n",
    "\n",
    "\n",
    " "
   ]
  },
  {
   "cell_type": "markdown",
   "metadata": {},
   "source": [
    "##  Formulating the causal model\n",
    "Suppose that policy X was introduced in year XXXX. To measure its effect, the outcome variable is the XXXX the following year. \n",
    "\n",
    "POSSIBLE VARIABLES;\n",
    "1. Percentage of foreign students \n",
    "2. Rent prices (average)\n",
    "3. ..."
   ]
  },
  {
   "cell_type": "code",
   "execution_count": null,
   "metadata": {},
   "outputs": [],
   "source": []
  },
  {
   "cell_type": "markdown",
   "metadata": {},
   "source": [
    "### The importance of time\n",
    "\n",
    "1) Activity prior to the treatment (causes the treatment)\n",
    "2) Activity after the treatment (is the outcome of applying treatment)\n"
   ]
  },
  {
   "cell_type": "code",
   "execution_count": null,
   "metadata": {},
   "outputs": [],
   "source": [
    "causal_graph = \"\"\"digraph {\n",
    "treatment[label=\"Program Signup in month i\"];\n",
    "pre_spends;\n",
    "post_spends;\n",
    "Z->treatment;\n",
    "U[label=\"Unobserved Confounders\"]; \n",
    "pre_spends -> treatment;\n",
    "treatment->post_spends;\n",
    "signup_month->post_spends; signup_month->pre_spends;\n",
    "signup_month->treatment;\n",
    "U->treatment; U->pre_spends; U->post_spends;\n",
    "}\"\"\"\n",
    "\n",
    "# Post-process the data based on the graph and the month of the treatment (signup)\n",
    "df_i_signupmonth = df[df.signup_month.isin([0,i])].groupby([\"user_id\", \"signup_month\", \"treatment\"]).apply(\n",
    "    lambda x: pd.Series({'pre_spends': np.sum(np.where(x.month < i, x.spend,0))/np.sum(np.where(x.month<i, 1,0)),\n",
    "                        'post_spends': np.sum(np.where(x.month > i, x.spend,0))/np.sum(np.where(x.month>i, 1,0)) })\n",
    ").reset_index()\n",
    "# print(df_i_signupmonth)\n",
    "model = dowhy.CausalModel(data=df_i_signupmonth,\n",
    "                     graph=causal_graph.replace(\"\\n\", \" \"),\n",
    "                     treatment=\"treatment\",\n",
    "                     outcome=\"post_spends\")\n",
    "model.view_model()\n",
    "from IPython.display import Image, display\n",
    "display(Image(filename=\"causal_model.png\"))"
   ]
  }
 ],
 "metadata": {
  "kernelspec": {
   "display_name": "Python 3",
   "language": "python",
   "name": "python3"
  },
  "language_info": {
   "codemirror_mode": {
    "name": "ipython",
    "version": 3
   },
   "file_extension": ".py",
   "mimetype": "text/x-python",
   "name": "python",
   "nbconvert_exporter": "python",
   "pygments_lexer": "ipython3",
   "version": "3.10.12"
  },
  "org": null
 },
 "nbformat": 4,
 "nbformat_minor": 4
}
